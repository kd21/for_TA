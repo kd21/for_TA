{
  "nbformat": 4,
  "nbformat_minor": 0,
  "metadata": {
    "colab": {
      "name": "improve1.ipynb",
      "version": "0.3.2",
      "provenance": [],
      "include_colab_link": true
    },
    "kernelspec": {
      "name": "python3",
      "display_name": "Python 3"
    }
  },
  "cells": [
    {
      "cell_type": "markdown",
      "metadata": {
        "id": "view-in-github",
        "colab_type": "text"
      },
      "source": [
        "<a href=\"https://colab.research.google.com/github/kd21/for_TA/blob/sub/improve1.ipynb\" target=\"_parent\"><img src=\"https://colab.research.google.com/assets/colab-badge.svg\" alt=\"Open In Colab\"/></a>"
      ]
    },
    {
      "metadata": {
        "id": "taCsrmqdMcFd",
        "colab_type": "text"
      },
      "cell_type": "markdown",
      "source": [
        "# google driveをマウントするための処理"
      ]
    },
    {
      "metadata": {
        "id": "OL6KzcOyDkW2",
        "colab_type": "code",
        "colab": {}
      },
      "cell_type": "code",
      "source": [
        "from google.colab import drive\n",
        "drive.mount('/content/drive')"
      ],
      "execution_count": 0,
      "outputs": []
    },
    {
      "metadata": {
        "id": "jRTN9DpUMR18",
        "colab_type": "text"
      },
      "cell_type": "markdown",
      "source": [
        "# ライブラリのインストール"
      ]
    },
    {
      "metadata": {
        "id": "XcdrzthS2kGu",
        "colab_type": "code",
        "colab": {}
      },
      "cell_type": "code",
      "source": [
        "!pip install gensim"
      ],
      "execution_count": 0,
      "outputs": []
    },
    {
      "metadata": {
        "id": "t-lznLxCMz37",
        "colab_type": "text"
      },
      "cell_type": "markdown",
      "source": [
        "# プログラム\n",
        "MODELは自分がword2vecモデルを保存しているパスへ変更すること\n",
        "\n"
      ]
    },
    {
      "metadata": {
        "id": "9Rxd6W2zkoFB",
        "colab_type": "code",
        "colab": {}
      },
      "cell_type": "code",
      "source": [
        "class StudentCard:\n",
        "    __student_cards = []\n",
        "    \n",
        "    def __init__(self, student_id, student_name, student_hobby):\n",
        "      self.__student_id = student_id\n",
        "      self.__student_name = student_name\n",
        "      self.__student_hobby = student_hobby\n",
        "      self.__account_balance = 0\n",
        "      StudentCard.__student_cards.append(self)\n",
        "      \n",
        "    def get_student_name(self):\n",
        "      return self.__student_name\n",
        "    \n",
        "    def get_account_balance(self):\n",
        "      return self.__account_balance\n",
        "    \n",
        "    def set_account_balance(self,account_balance):\n",
        "      self.__account_balance = account_balance\n",
        "      return self.__account_balance\n",
        "    \n",
        "    def get_student_hobby(self):\n",
        "      return self.__student_hobby\n",
        "    \n",
        "    @staticmethod\n",
        "    def get_student_card(student_id):\n",
        "      return StudentCard.__student_cards[student_id]"
      ],
      "execution_count": 0,
      "outputs": []
    },
    {
      "metadata": {
        "id": "CzsWEbTkthno",
        "colab_type": "code",
        "outputId": "18faf933-099c-489c-f70a-f64688299eaa",
        "colab": {
          "base_uri": "https://localhost:8080/",
          "height": 156
        }
      },
      "cell_type": "code",
      "source": [
        "import gensim\n",
        "\n",
        "MODEL = '/content/drive/My Drive/GAS/for_TA/20190108/data/latest-ja-word2vec-gensim-model/word2vec.gensim.model'\n",
        "\n",
        "class MainShopCharger:\n",
        "  __inserted_student_card = None\n",
        "  __last_charge_time= None\n",
        "  __last_charge_hobby = None\n",
        "  __fortunes = ['凶','末吉','吉','小吉','中吉','大吉']\n",
        "  __first_time_fortune = '大吉'\n",
        "  __model = gensim.models.Word2Vec.load(MODEL)\n",
        "\n",
        "  @staticmethod\n",
        "  def insert_student_card(student_id):\n",
        "    if MainShopCharger.__inserted_student_card:\n",
        "      MainShopCharger.__last_charge_hobby = MainShopCharger.__inserted_student_card.get_student_hobby()\n",
        "    MainShopCharger.__inserted_student_card = StudentCard.get_student_card(student_id)\n",
        "  \n",
        "  @staticmethod\n",
        "  def charge_money(money):\n",
        "    if MainShopCharger.__inserted_student_card != None:\n",
        "      MainShopCharger.__inserted_student_card.set_account_balance(MainShopCharger.__inserted_student_card.get_account_balance() + money)\n",
        "    else:\n",
        "      print('学生証が挿入されていません')\n",
        "  \n",
        "  @staticmethod\n",
        "  def pick_fortune():\n",
        "    fortune_datas = [{'fortune':f, 'min':(2/len(MainShopCharger.__fortunes)*i-1), 'max':(2/len(MainShopCharger.__fortunes)*(i+1)-1)} for i,f in enumerate(MainShopCharger.__fortunes)]\n",
        "\n",
        "    if MainShopCharger.__inserted_student_card != None:\n",
        "      if not MainShopCharger.__last_charge_hobby:\n",
        "        print(MainShopCharger.__first_time_fortune + '：今日はじめての利用者です')\n",
        "      else:\n",
        "        sim_score = MainShopCharger.__model.wv.similarity(MainShopCharger.__inserted_student_card.get_student_hobby(), MainShopCharger.__last_charge_hobby)\n",
        "        fortune = list(filter(lambda x:x['max'] > sim_score, filter(lambda x:x['min'] < sim_score, fortune_datas )))[0]['fortune']\n",
        "        print(fortune)\n",
        "    else:\n",
        "      print('学生証が挿入されていません')\n",
        "  \n",
        "  @staticmethod\n",
        "  def print_account_balance():\n",
        "    print('残高を表示します')\n",
        "    print('学生名'+MainShopCharger.__inserted_student_card.get_student_name())\n",
        "    print('残高'+str(MainShopCharger.__inserted_student_card.get_account_balance()))\n",
        "  \n",
        "  @staticmethod\n",
        "  def main():\n",
        "    student_card1 = StudentCard(0,'tut','サッカー')\n",
        "    student_card1.set_account_balance(1000)\n",
        "    student_card2 = StudentCard(1,'tenpaku','ボクシング')\n",
        "    student_card2.set_account_balance(2000)\n",
        "\n",
        "    MainShopCharger.insert_student_card(0)\n",
        "    print('tutくんの運勢')\n",
        "    MainShopCharger.pick_fortune()\n",
        "    print('')\n",
        "    \n",
        "    MainShopCharger.insert_student_card(1)\n",
        "    print('tenpakuくんの運勢')\n",
        "    MainShopCharger.pick_fortune()\n",
        "    \n",
        "MainShopCharger.main()"
      ],
      "execution_count": 38,
      "outputs": [
        {
          "output_type": "stream",
          "text": [
            "tutくんの運勢\n",
            "大吉：今日はじめての利用者です\n",
            "\n",
            "tenpakuくんの運勢\n",
            "中吉\n"
          ],
          "name": "stdout"
        },
        {
          "output_type": "stream",
          "text": [
            "/usr/local/lib/python3.6/dist-packages/gensim/matutils.py:737: FutureWarning: Conversion of the second argument of issubdtype from `int` to `np.signedinteger` is deprecated. In future, it will be treated as `np.int64 == np.dtype(int).type`.\n",
            "  if np.issubdtype(vec.dtype, np.int):\n"
          ],
          "name": "stderr"
        }
      ]
    },
    {
      "metadata": {
        "id": "p8YsY2_Wf9K0",
        "colab_type": "code",
        "colab": {}
      },
      "cell_type": "code",
      "source": [
        ""
      ],
      "execution_count": 0,
      "outputs": []
    }
  ]
}