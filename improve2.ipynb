{
  "nbformat": 4,
  "nbformat_minor": 0,
  "metadata": {
    "colab": {
      "name": "improve2.ipynb",
      "version": "0.3.2",
      "provenance": [],
      "include_colab_link": true
    },
    "kernelspec": {
      "name": "python3",
      "display_name": "Python 3"
    },
    "accelerator": "GPU"
  },
  "cells": [
    {
      "cell_type": "markdown",
      "metadata": {
        "id": "view-in-github",
        "colab_type": "text"
      },
      "source": [
        "<a href=\"https://colab.research.google.com/github/kd21/for_TA/blob/master/improve2.ipynb\" target=\"_parent\"><img src=\"https://colab.research.google.com/assets/colab-badge.svg\" alt=\"Open In Colab\"/></a>"
      ]
    },
    {
      "metadata": {
        "id": "L0mB7fd7dAV3",
        "colab_type": "text"
      },
      "cell_type": "markdown",
      "source": [
        "# google driveをマウント"
      ]
    },
    {
      "metadata": {
        "id": "gm3pi_N9HXFr",
        "colab_type": "code",
        "colab": {}
      },
      "cell_type": "code",
      "source": [
        "from google.colab import drive\n",
        "drive.mount('/content/drive')"
      ],
      "execution_count": 0,
      "outputs": []
    },
    {
      "metadata": {
        "id": "OapmItfidEIy",
        "colab_type": "text"
      },
      "cell_type": "markdown",
      "source": [
        "# mecabのセットアップ"
      ]
    },
    {
      "metadata": {
        "id": "lWXdbnyAIs_V",
        "colab_type": "code",
        "colab": {}
      },
      "cell_type": "code",
      "source": [
        "!apt install aptitude\n",
        "!aptitude install mecab libmecab-dev mecab-ipadic-utf8 git make curl xz-utils file -y\n",
        "!apt-get -q -y install swig\n",
        "!pip install mecab-python3"
      ],
      "execution_count": 0,
      "outputs": []
    },
    {
      "metadata": {
        "id": "diAbZ_iHdGqE",
        "colab_type": "text"
      },
      "cell_type": "markdown",
      "source": [
        "# gensimのセットアップ"
      ]
    },
    {
      "metadata": {
        "id": "Grt_GMEBBuL3",
        "colab_type": "code",
        "colab": {}
      },
      "cell_type": "code",
      "source": [
        "!pip install gensim"
      ],
      "execution_count": 0,
      "outputs": []
    },
    {
      "metadata": {
        "id": "l9x0nhWqdowa",
        "colab_type": "text"
      },
      "cell_type": "markdown",
      "source": [
        "# プログラム\n",
        "BOOKS_CSV_FILEPATHとMODELは自分の保存したパスへ変更すること"
      ]
    },
    {
      "metadata": {
        "id": "9Rxd6W2zkoFB",
        "colab_type": "code",
        "colab": {}
      },
      "cell_type": "code",
      "source": [
        "class StudentCard:\n",
        "    __student_cards = []\n",
        "    \n",
        "    def __init__(self, student_id, student_name, student_hobby):\n",
        "      self.__student_id = student_id\n",
        "      self.__student_name = student_name\n",
        "      self.__student_hobby = student_hobby\n",
        "      self.__account_balance = 0\n",
        "      StudentCard.__student_cards.append(self)\n",
        "      \n",
        "    def get_student_name(self):\n",
        "      return self.__student_name\n",
        "    \n",
        "    def get_account_balance(self):\n",
        "      return self.__account_balance\n",
        "    \n",
        "    def set_account_balance(self,account_balance):\n",
        "      self.__account_balance = account_balance\n",
        "      return self.__account_balance\n",
        "    \n",
        "    def get_student_hobby(self):\n",
        "      return self.__student_hobby\n",
        "    \n",
        "    @staticmethod\n",
        "    def get_student_card(student_id):\n",
        "      return StudentCard.__student_cards[student_id]"
      ],
      "execution_count": 0,
      "outputs": []
    },
    {
      "metadata": {
        "id": "VGS43ihIbSfQ",
        "colab_type": "code",
        "colab": {
          "base_uri": "https://localhost:8080/",
          "height": 122
        },
        "outputId": "346f0bce-37a3-43c2-e14f-f48db2e69504"
      },
      "cell_type": "code",
      "source": [
        "import csv\n",
        "import copy\n",
        "import gensim\n",
        "import MeCab\n",
        "\n",
        "BOOKS_CSV_FILEPATH = '/content/drive/My Drive/GAS/for_TA/20190108/data/books.txt'\n",
        "MODEL = '/content/drive/My Drive/GAS/for_TA/20190108/data/latest-ja-word2vec-gensim-model/word2vec.gensim.model'\n",
        "\n",
        "class ShopRegister:\n",
        "  __inserted_student_card = None\n",
        "  __books = [{'title':data[0],'cost':int(data[1])} for data in csv.reader(open(BOOKS_CSV_FILEPATH, 'r'))]\n",
        "  __model = gensim.models.Word2Vec.load(MODEL)\n",
        "  __mecab = MeCab.Tagger(\"-Ochasen\")\n",
        "  \n",
        "  def insert_student_card(student_id):\n",
        "     ShopRegister.__inserted_student_card = StudentCard.get_student_card(student_id)\n",
        "      \n",
        "  def recommended(self, rank_size):\n",
        "    ranking = copy.deepcopy(ShopRegister.__books)\n",
        "    for i,b in enumerate(ranking):\n",
        "      ShopRegister.__mecab.parse('')\n",
        "      node = ShopRegister.__mecab.parse(b['title']).split('\\n')[:-2]\n",
        "      \n",
        "      #名詞のみ取り出します\n",
        "      nouns = [n.split(\"\\t\")[0] for n in node if n.split('\\t')[3].split('-')[0] == '名詞']\n",
        "     \n",
        "      #各名詞と趣味のスコアを計算します\n",
        "      scores = []\n",
        "      for n in nouns:\n",
        "        try:\n",
        "          scores.append(ShopRegister.__model.wv.similarity(ShopRegister.__inserted_student_card.get_student_hobby(),n))\n",
        "        except KeyError:\n",
        "#           print(n + 'はモデルに学習されていません')\n",
        "          continue\n",
        "      #各本のスコアを算出します\n",
        "      ranking[i]['score'] = sum(scores)/len(scores) if len(scores) else 0\n",
        "    #ランキングの中でTOP[rank_size]のみ取り出します\n",
        "    ranking = sorted(ranking, key=lambda x:x['score'],reverse=True)[:rank_size]\n",
        "    for r in ranking:\n",
        "      print(r)\n",
        "      \n",
        "  def get_books(self):\n",
        "    return ShopRegister.__books\n",
        "      \n",
        "  @staticmethod\n",
        "  def main():\n",
        "    shop_reg1 = ShopRegister()\n",
        "    student_card1 = StudentCard(0,'tut','歴史小説')\n",
        "    student_card1.set_account_balance(1000)\n",
        "    ShopRegister.insert_student_card(0)\n",
        "    shop_reg1.recommended(3)\n",
        "\n",
        "ShopRegister.main()\n",
        "    "
      ],
      "execution_count": 30,
      "outputs": [
        {
          "output_type": "stream",
          "text": [
            "{'title': '東大教授がおしえる やばい日本史', 'cost': 1080, 'score': 0.3446366861462593}\n",
            "{'title': '漫画 君たちはどう生きるか', 'cost': 1404, 'score': 0.2991243700186412}\n",
            "{'title': '「日本国紀」の副読本 学校が教えない日本史', 'cost': 950, 'score': 0.26820111895600957}\n"
          ],
          "name": "stdout"
        },
        {
          "output_type": "stream",
          "text": [
            "/usr/local/lib/python3.6/dist-packages/gensim/matutils.py:737: FutureWarning: Conversion of the second argument of issubdtype from `int` to `np.signedinteger` is deprecated. In future, it will be treated as `np.int64 == np.dtype(int).type`.\n",
            "  if np.issubdtype(vec.dtype, np.int):\n"
          ],
          "name": "stderr"
        }
      ]
    }
  ]
}