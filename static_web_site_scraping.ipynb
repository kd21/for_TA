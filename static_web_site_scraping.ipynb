{
  "nbformat": 4,
  "nbformat_minor": 0,
  "metadata": {
    "colab": {
      "name": "static_web_site_scraping.ipynb",
      "version": "0.3.2",
      "provenance": [],
      "include_colab_link": true
    },
    "kernelspec": {
      "name": "python3",
      "display_name": "Python 3"
    }
  },
  "cells": [
    {
      "cell_type": "markdown",
      "metadata": {
        "id": "view-in-github",
        "colab_type": "text"
      },
      "source": [
        "<a href=\"https://colab.research.google.com/github/kd21/for_TA/blob/master/static_web_site_scraping.ipynb\" target=\"_parent\"><img src=\"https://colab.research.google.com/assets/colab-badge.svg\" alt=\"Open In Colab\"/></a>"
      ]
    },
    {
      "metadata": {
        "id": "h0a85dpz2WhY",
        "colab_type": "text"
      },
      "cell_type": "markdown",
      "source": [
        "# 環境構築"
      ]
    },
    {
      "metadata": {
        "id": "zCXyXrn7B7dT",
        "colab_type": "code",
        "colab": {}
      },
      "cell_type": "code",
      "source": [
        "!pip install requests"
      ],
      "execution_count": 0,
      "outputs": []
    },
    {
      "metadata": {
        "id": "zfM9Z5Jo2ZTw",
        "colab_type": "text"
      },
      "cell_type": "markdown",
      "source": [
        "# プログラム"
      ]
    },
    {
      "metadata": {
        "id": "4GH80AoJBrOy",
        "colab_type": "code",
        "colab": {}
      },
      "cell_type": "code",
      "source": [
        "from bs4 import BeautifulSoup\n",
        "import requests\n",
        "\n",
        "url = \"https://www.e-hon.ne.jp/bec/SE/Genre?ccode=99&dcode=06\"\n",
        "response = requests.get(url)\n",
        "response.encoding = response.apparent_encoding\n",
        "soup = BeautifulSoup(response.text,\"html.parser\")\n",
        "\n",
        "# 本のタイトルを取得\n",
        "books = [a.text for a in soup.select(\"div.rankInner a\")]\n",
        "\n",
        "#空白文字列を削除する\n",
        "books = [''.join(b.split()) for b in books]\n",
        "books = filter(lambda x:x != '', books)\n",
        "\n",
        "for b in books:\n",
        "  print(b)"
      ],
      "execution_count": 0,
      "outputs": []
    }
  ]
}