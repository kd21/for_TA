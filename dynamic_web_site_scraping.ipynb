{
  "nbformat": 4,
  "nbformat_minor": 0,
  "metadata": {
    "colab": {
      "name": "dynamic_web_site_scraping.ipynb",
      "version": "0.3.2",
      "provenance": [],
      "collapsed_sections": [],
      "include_colab_link": true
    },
    "kernelspec": {
      "name": "python3",
      "display_name": "Python 3"
    }
  },
  "cells": [
    {
      "cell_type": "markdown",
      "metadata": {
        "id": "view-in-github",
        "colab_type": "text"
      },
      "source": [
        "<a href=\"https://colab.research.google.com/github/kd21/for_TA/blob/master/dynamic_web_site_scraping.ipynb\" target=\"_parent\"><img src=\"https://colab.research.google.com/assets/colab-badge.svg\" alt=\"Open In Colab\"/></a>"
      ]
    },
    {
      "metadata": {
        "id": "3rsDt1wAxOWr",
        "colab_type": "text"
      },
      "cell_type": "markdown",
      "source": [
        "# 環境構築"
      ]
    },
    {
      "metadata": {
        "id": "-K4skMhpBiDk",
        "colab_type": "code",
        "colab": {}
      },
      "cell_type": "code",
      "source": [
        "!pip install selenium"
      ],
      "execution_count": 0,
      "outputs": []
    },
    {
      "metadata": {
        "id": "oh48dzZdxVJf",
        "colab_type": "text"
      },
      "cell_type": "markdown",
      "source": [
        "# web driver(PhantomJs)のインストール"
      ]
    },
    {
      "metadata": {
        "id": "Sr8EpyJuBcjp",
        "colab_type": "code",
        "colab": {}
      },
      "cell_type": "code",
      "source": [
        "%%bash\n",
        "mkdir ~/src \n",
        "cd ~/src\n",
        "wget https://bitbucket.org/ariya/phantomjs/downloads/phantomjs-2.1.1-linux-x86_64.tar.bz2\n",
        "cd ~/src\n",
        "tar jxvf phantomjs-2.1.1-linux-x86_64.tar.bz2\n",
        "cd phantomjs-2.1.1-linux-x86_64/bin/\n",
        "mv phantomjs /usr/local/bin/"
      ],
      "execution_count": 0,
      "outputs": []
    },
    {
      "metadata": {
        "id": "YOBS2bpUxaiZ",
        "colab_type": "text"
      },
      "cell_type": "markdown",
      "source": [
        "# プログラム"
      ]
    },
    {
      "metadata": {
        "id": "EUE7aW8Y1BBG",
        "colab_type": "code",
        "colab": {
          "base_uri": "https://localhost:8080/",
          "height": 411
        },
        "outputId": "bd8dab46-bffb-4891-f7b4-389026692c51"
      },
      "cell_type": "code",
      "source": [
        "from bs4 import BeautifulSoup\n",
        "from selenium import webdriver\n",
        "from selenium.webdriver.firefox.options import Options\n",
        "\n",
        "url = \"https://www.amazon.co.jp/gp/bestsellers/books/ref=zg_bs_books_pg_1?ie=UTF8&pg=1\"\n",
        "browser = webdriver.PhantomJS()\n",
        "browser.get(url)\n",
        "browser.implicitly_wait(3)\n",
        "html_source = browser.page_source\n",
        "bs_obj = BeautifulSoup(html_source)\n",
        "books = [a.text for a in bs_obj.select(\"div.a-fixed-left-grid-col div.p13n-sc-truncated\")]\n",
        "for b in books:\n",
        "  print(b)"
      ],
      "execution_count": 3,
      "outputs": [
        {
          "output_type": "stream",
          "text": [
            "/usr/local/lib/python3.6/dist-packages/selenium/webdriver/phantomjs/webdriver.py:49: UserWarning: Selenium support for PhantomJS has been deprecated, please use headless versions of Chrome or Firefox instead\n",
            "  warnings.warn('Selenium support for PhantomJS has been deprecated, please use headless '\n"
          ],
          "name": "stderr"
        },
        {
          "output_type": "stream",
          "text": [
            "生田絵梨花写真集 インターミッション\n",
            "日本国紀\n",
            "一切なりゆき 樹木希林のことば (文春新書)\n",
            "メモの魔力 The Magic of Memos (NewsPicks Book)\n",
            "「日本国紀」の副読本 学校が教えない日本史 (産経セレクト S 13)\n",
            "FACTFULNESS(ファクトフルネス)　10の思い込みを乗り越え、データを基に世界を正しく見る習慣\n",
            "サピエンス全史(上)文明の構造と人類の幸福\n",
            "英単語の語源図鑑\n",
            "一人の力で日経平均を動かせる男の投資哲学\n",
            "学校の「当たり前」をやめた。 ― 生徒も教師も変わる!  公立名門中学校長の改革 ―\n",
            "ゆるめるモ！あの　ファースト写真集　あのちゃん（仮）\n",
            "ホモ・デウス 上: テクノロジーとサピエンスの未来\n",
            "日本が売られる (幻冬舎新書)\n",
            "サピエンス全史(下)文明の構造と人類の幸福\n",
            "樹木希林 120の遺言\n",
            "今日の治療薬2019: 解説と便覧\n",
            "48手ヨガ -江戸遊女に学ぶ女性ホルモンと体力活性法-\n",
            "ホモ・デウス 下: テクノロジーとサピエンスの未来\n",
            "学びを結果に変えるアウトプット大全 (Sanctuary books)\n",
            "トラペジウム\n"
          ],
          "name": "stdout"
        }
      ]
    }
  ]
}