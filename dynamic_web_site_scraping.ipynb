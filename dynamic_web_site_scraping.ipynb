{
  "nbformat": 4,
  "nbformat_minor": 0,
  "metadata": {
    "colab": {
      "name": "dynamic_web_site_scraping.ipynb",
      "version": "0.3.2",
      "provenance": [],
      "collapsed_sections": [],
      "include_colab_link": true
    },
    "kernelspec": {
      "name": "python3",
      "display_name": "Python 3"
    }
  },
  "cells": [
    {
      "cell_type": "markdown",
      "metadata": {
        "id": "view-in-github",
        "colab_type": "text"
      },
      "source": [
        "<a href=\"https://colab.research.google.com/github/kd21/for_TA/blob/master/dynamic_web_site_scraping.ipynb\" target=\"_parent\"><img src=\"https://colab.research.google.com/assets/colab-badge.svg\" alt=\"Open In Colab\"/></a>"
      ]
    },
    {
      "metadata": {
        "id": "3rsDt1wAxOWr",
        "colab_type": "text"
      },
      "cell_type": "markdown",
      "source": [
        "# 環境構築"
      ]
    },
    {
      "metadata": {
        "id": "-K4skMhpBiDk",
        "colab_type": "code",
        "colab": {}
      },
      "cell_type": "code",
      "source": [
        "!pip install selenium"
      ],
      "execution_count": 0,
      "outputs": []
    },
    {
      "metadata": {
        "id": "oh48dzZdxVJf",
        "colab_type": "text"
      },
      "cell_type": "markdown",
      "source": [
        "# web driver(PhantomJs)のインストール"
      ]
    },
    {
      "metadata": {
        "id": "Sr8EpyJuBcjp",
        "colab_type": "code",
        "colab": {}
      },
      "cell_type": "code",
      "source": [
        "%%bash\n",
        "mkdir ~/src \n",
        "cd ~/src\n",
        "wget https://bitbucket.org/ariya/phantomjs/downloads/phantomjs-2.1.1-linux-x86_64.tar.bz2\n",
        "cd ~/src\n",
        "tar jxvf phantomjs-2.1.1-linux-x86_64.tar.bz2\n",
        "cd phantomjs-2.1.1-linux-x86_64/bin/\n",
        "mv phantomjs /usr/local/bin/"
      ],
      "execution_count": 0,
      "outputs": []
    },
    {
      "metadata": {
        "id": "YOBS2bpUxaiZ",
        "colab_type": "text"
      },
      "cell_type": "markdown",
      "source": [
        "# プログラム"
      ]
    },
    {
      "metadata": {
        "id": "EUE7aW8Y1BBG",
        "colab_type": "code",
        "colab": {}
      },
      "cell_type": "code",
      "source": [
        "from bs4 import BeautifulSoup\n",
        "from selenium import webdriver\n",
        "from selenium.webdriver.firefox.options import Options\n",
        "\n",
        "url = \"https://www.amazon.co.jp/gp/bestsellers/books/ref=zg_bs_books_pg_1?ie=UTF8&pg=1\"\n",
        "browser = webdriver.PhantomJS()\n",
        "browser.implicitly_wait(3)\n",
        "browser.get(url)\n",
        "html_source = browser.page_source\n",
        "bs_obj = BeautifulSoup(html_source)\n",
        "books = [a.text for a in bs_obj.select(\"div.a-fixed-left-grid-col div.p13n-sc-truncated\")]\n",
        "for b in books:\n",
        "  print(b)"
      ],
      "execution_count": 0,
      "outputs": []
    }
  ]
}