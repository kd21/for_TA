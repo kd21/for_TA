{
  "nbformat": 4,
  "nbformat_minor": 0,
  "metadata": {
    "colab": {
      "name": "mecab_example.ipynb",
      "version": "0.3.2",
      "provenance": [],
      "include_colab_link": true
    },
    "kernelspec": {
      "name": "python3",
      "display_name": "Python 3"
    }
  },
  "cells": [
    {
      "cell_type": "markdown",
      "metadata": {
        "id": "view-in-github",
        "colab_type": "text"
      },
      "source": [
        "<a href=\"https://colab.research.google.com/github/kd21/for_TA/blob/master/mecab_example.ipynb\" target=\"_parent\"><img src=\"https://colab.research.google.com/assets/colab-badge.svg\" alt=\"Open In Colab\"/></a>"
      ]
    },
    {
      "metadata": {
        "id": "7XG5VurvWJXP",
        "colab_type": "text"
      },
      "cell_type": "markdown",
      "source": [
        "# 環境構築\n"
      ]
    },
    {
      "metadata": {
        "id": "ZLdANUyaWFAW",
        "colab_type": "code",
        "colab": {}
      },
      "cell_type": "code",
      "source": [
        "# mecabのセットアップ\n",
        "!apt install aptitude\n",
        "!aptitude install mecab libmecab-dev mecab-ipadic-utf8 git make curl xz-utils file -y\n",
        "!apt-get -q -y install swig\n",
        "!pip install mecab-python3"
      ],
      "execution_count": 0,
      "outputs": []
    },
    {
      "metadata": {
        "id": "N_QnjAiPWWUD",
        "colab_type": "text"
      },
      "cell_type": "markdown",
      "source": [
        "# プログラム"
      ]
    },
    {
      "metadata": {
        "id": "Y-8wLayjWZ-i",
        "colab_type": "code",
        "colab": {
          "base_uri": "https://localhost:8080/",
          "height": 102
        },
        "outputId": "8cc076d3-d831-44f6-9aa6-7798110f4daf"
      },
      "cell_type": "code",
      "source": [
        "import MeCab\n",
        "mecab = MeCab.Tagger(\"-Ochasen\")\n",
        "\n",
        "tokenized_text = mecab.parse('ハリーポッターと賢者の石').split('\\n')[0:-2]\n",
        "surfaces = [t.split('\\t')[0] for t in tokenized_text]\n",
        "poses = [t.split('\\t')[3].split('-')[0] for t in tokenized_text]\n",
        "morphs = [{\"surface\":s, \"pos\":p} for (s,p) in zip(surfaces,poses)]\n",
        "for m in morphs:\n",
        "  print(m)"
      ],
      "execution_count": 12,
      "outputs": [
        {
          "output_type": "stream",
          "text": [
            "{'surface': 'ハリーポッター', 'pos': '名詞'}\n",
            "{'surface': 'と', 'pos': '助詞'}\n",
            "{'surface': '賢者', 'pos': '名詞'}\n",
            "{'surface': 'の', 'pos': '助詞'}\n",
            "{'surface': '石', 'pos': '名詞'}\n"
          ],
          "name": "stdout"
        }
      ]
    }
  ]
}