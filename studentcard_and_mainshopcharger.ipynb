{
  "nbformat": 4,
  "nbformat_minor": 0,
  "metadata": {
    "colab": {
      "name": "studentcard_and_mainshopcharger.ipynb",
      "version": "0.3.2",
      "provenance": [],
      "include_colab_link": true
    },
    "kernelspec": {
      "name": "python3",
      "display_name": "Python 3"
    }
  },
  "cells": [
    {
      "cell_type": "markdown",
      "metadata": {
        "id": "view-in-github",
        "colab_type": "text"
      },
      "source": [
        "<a href=\"https://colab.research.google.com/github/kd21/for_TA/blob/master/studentcard_and_mainshopcharger.ipynb\" target=\"_parent\"><img src=\"https://colab.research.google.com/assets/colab-badge.svg\" alt=\"Open In Colab\"/></a>"
      ]
    },
    {
      "metadata": {
        "id": "RwIY_nF1XkTF",
        "colab_type": "text"
      },
      "cell_type": "markdown",
      "source": [
        "冬季課題1の終了時点でのソースコード例"
      ]
    },
    {
      "metadata": {
        "id": "9Rxd6W2zkoFB",
        "colab_type": "code",
        "colab": {}
      },
      "cell_type": "code",
      "source": [
        "class StudentCard:\n",
        "    __student_cards = []\n",
        "    \n",
        "    def __init__(self, student_id, student_name,student_hobby):\n",
        "      self.__student_id = student_id\n",
        "      self.__student_name = student_name\n",
        "      self.__student_hobby = student_hobby\n",
        "      self.__account_balance = 0\n",
        "      StudentCard.__student_cards.append(self)\n",
        "      \n",
        "    def get_student_name(self):\n",
        "      return self.__student_name\n",
        "    \n",
        "    def get_account_balance(self):\n",
        "      return self.__account_balance\n",
        "    \n",
        "    def set_account_balance(self,account_balance):\n",
        "      self.__account_balance = account_balance\n",
        "      return self.__account_balance\n",
        "    \n",
        "    def get_student_hobby(self):\n",
        "      return self.__student_hobby\n",
        "    \n",
        "    @staticmethod\n",
        "    def get_student_card(student_id):\n",
        "      return StudentCard.__student_cards[student_id]"
      ],
      "execution_count": 0,
      "outputs": []
    },
    {
      "metadata": {
        "id": "CzsWEbTkthno",
        "colab_type": "code",
        "colab": {
          "base_uri": "https://localhost:8080/",
          "height": 204
        },
        "outputId": "be5ef254-876a-446c-8163-7fc99fa44c4a"
      },
      "cell_type": "code",
      "source": [
        "from datetime import datetime\n",
        "from time import sleep\n",
        "\n",
        "class MainShopCharger:\n",
        "  __inserted_student_card = None\n",
        "  __last_charge_time = None\n",
        "  \n",
        "  @staticmethod\n",
        "  def insert_student_card(student_id):\n",
        "    MainShopCharger.__inserted_student_card = StudentCard.get_student_card(student_id)\n",
        "  \n",
        "  @staticmethod\n",
        "  def charge_money(money):\n",
        "    if MainShopCharger.__inserted_student_card != None:\n",
        "      MainShopCharger.__inserted_student_card.set_account_balance(MainShopCharger.__inserted_student_card.get_account_balance() + money)\n",
        "      MainShopCharger.__last_charge_time = datetime.now().strftime(\"%Y/%m/%d %H:%M:%S\")\n",
        "    else:\n",
        "      print('学生証が挿入されていません')\n",
        "  \n",
        "  @staticmethod\n",
        "  def print_account_balance():\n",
        "    print('残高を表示します')\n",
        "    print('学生名'+MainShopCharger.__inserted_student_card.get_student_name())\n",
        "    print('残高'+str(MainShopCharger.__inserted_student_card.get_account_balance()))\n",
        "  \n",
        "  @staticmethod\n",
        "  def print_last_charge_time():\n",
        "    print(MainShopCharger.__last_charge_time)\n",
        "  \n",
        "  @staticmethod\n",
        "  def main():\n",
        "    student_card1 = StudentCard(0,'tut','サッカー')\n",
        "    student_card2 = StudentCard(1,'tenpaku','読書')\n",
        "    student_card1.set_account_balance(1000)\n",
        "\n",
        "    MainShopCharger.insert_student_card(0)\n",
        "    MainShopCharger.charge_money(1000)\n",
        "    MainShopCharger.charge_money(-300)\n",
        "    print('tutくんの状態')\n",
        "    MainShopCharger.print_account_balance()\n",
        "    MainShopCharger.print_last_charge_time()\n",
        "    print('')\n",
        "    sleep(1)\n",
        "    \n",
        "    MainShopCharger.insert_student_card(1)\n",
        "    MainShopCharger.charge_money(500)\n",
        "    MainShopCharger.charge_money(-1000)\n",
        "    print('tutくんの状態')\n",
        "    MainShopCharger.print_account_balance()\n",
        "    MainShopCharger.print_last_charge_time()\n",
        "    \n",
        "MainShopCharger.main()"
      ],
      "execution_count": 5,
      "outputs": [
        {
          "output_type": "stream",
          "text": [
            "tutくんの状態\n",
            "残高を表示します\n",
            "学生名tut\n",
            "残高4100\n",
            "2019/01/05 05:03:39\n",
            "\n",
            "tutくんの状態\n",
            "残高を表示します\n",
            "学生名tenpaku\n",
            "残高-1500\n",
            "2019/01/05 05:03:40\n"
          ],
          "name": "stdout"
        }
      ]
    }
  ]
}